{
 "cells": [
  {
   "attachments": {},
   "cell_type": "markdown",
   "id": "e51cf8d9",
   "metadata": {},
   "source": [
    "Analitik SQL, verilerin analiz edilmesi, özetlenmesi ve keşfedilmesi için kullanılan bir SQL yaklaşımıdır.\n",
    "Geleneksel SQL sorgularının yanı sıra analitik fonksiyonları ve özel analiz işlevlerini içerir.\n",
    "Analitik SQL, büyük veri setleri üzerinde karmaşık analizler gerçekleştirmek için kullanılır ve veri ambarı ortamlarında sıklıkla tercih edilir.\n",
    "\n",
    "Analitik SQL'nin kullanım alanları arasında aşağıdakiler yer alır:\n",
    "\n",
    "1. Veri analizi: Büyük veri setlerinde analiz yapmak için analitik SQL kullanılır.\n",
    "Örneğin, satış verilerini analiz ederek en çok satılan ürünleri veya müşteri tercihlerini belirlemek için analitik SQL sorguları kullanılabilir.\n",
    "\n",
    "2. İş zekası raporları: Analitik SQL, iş zekası uygulamalarında kullanılarak, performans göstergelerini (KPI'lar) hesaplamak ve raporlamak için kullanılır.\n",
    "Örneğin, gelir tabloları, satış trendleri veya müşteri segmentasyonu raporları oluşturmak için analitik SQL sorguları kullanılabilir.\n",
    "\n",
    "3. Veri madenciliği: Analitik SQL, veri madenciliği teknikleriyle birleştirilerek desenleri, ilişkileri veya anlamlı bilgileri ortaya çıkarmak için kullanılır.\n",
    "Örneğin, bir pazarlama kampanyasının etkisini analiz etmek veya müşteri davranış modelleri oluşturmak için analitik SQL sorguları kullanılabilir.\n",
    "\n",
    "Şimdi, analitik SQL sorgusu örneği verebilirim:"
   ]
  },
  {
   "cell_type": "code",
   "execution_count": null,
   "id": "7f2c9a5a",
   "metadata": {
    "vscode": {
     "languageId": "sql"
    }
   },
   "outputs": [],
   "source": [
    "SELECT category, COUNT(product_id) AS product_count, AVG(price) AS average_price\n",
    "FROM products\n",
    "WHERE quantity > 0\n",
    "GROUP BY category\n",
    "HAVING AVG(price) > 50\n",
    "ORDER BY product_count DESC;"
   ]
  },
  {
   "attachments": {},
   "cell_type": "markdown",
   "id": "04789285",
   "metadata": {},
   "source": [
    "Bu sorgu, \"products\" tablosundaki ürünleri kategoriye göre gruplandırır. Sadece stokta bulunan ürünleri (quantity > 0) dikkate alır.\n",
    "Her kategori için ürün sayısını (product_count) ve ortalama fiyatı (average_price) hesaplar. Ardından, ortalama fiyatı 50'den büyük olan kategorileri seçer (HAVING AVG(price) > 50).\n",
    "Sonuçlar ürün sayısına göre azalan şekilde sıralanır (ORDER BY product_count DESC).\n",
    "Bu sorgu, ürün kategorileriyle ilgili istatistiksel bilgileri sağlar. Toplam ürün sayısı, ortalama fiyat ve kategori bazında filtreleme yapılabilir.\n"
   ]
  }
 ],
 "metadata": {
  "kernelspec": {
   "display_name": "Python 3 (ipykernel)",
   "language": "python",
   "name": "python3"
  },
  "language_info": {
   "codemirror_mode": {
    "name": "ipython",
    "version": 3
   },
   "file_extension": ".py",
   "mimetype": "text/x-python",
   "name": "python",
   "nbconvert_exporter": "python",
   "pygments_lexer": "ipython3",
   "version": "3.10.9"
  }
 },
 "nbformat": 4,
 "nbformat_minor": 5
}
