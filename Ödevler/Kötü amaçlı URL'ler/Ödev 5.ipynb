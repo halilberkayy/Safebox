{
  "cells": [
    {
      "cell_type": "code",
      "execution_count": 25,
      "metadata": {
        "colab": {
          "base_uri": "https://localhost:8080/",
          "height": 206
        },
        "id": "6UVTzYy4Fah1",
        "outputId": "3d761876-9ddf-4b0e-a8f0-517bb56202b2"
      },
      "outputs": [
        {
          "data": {
            "text/html": [
              "\n",
              "\n",
              "  <div id=\"df-be7eed33-56ff-49ac-8be3-a8beb7ac8028\">\n",
              "    <div class=\"colab-df-container\">\n",
              "      <div>\n",
              "<style scoped>\n",
              "    .dataframe tbody tr th:only-of-type {\n",
              "        vertical-align: middle;\n",
              "    }\n",
              "\n",
              "    .dataframe tbody tr th {\n",
              "        vertical-align: top;\n",
              "    }\n",
              "\n",
              "    .dataframe thead th {\n",
              "        text-align: right;\n",
              "    }\n",
              "</style>\n",
              "<table border=\"1\" class=\"dataframe\">\n",
              "  <thead>\n",
              "    <tr style=\"text-align: right;\">\n",
              "      <th></th>\n",
              "      <th>url</th>\n",
              "      <th>type</th>\n",
              "    </tr>\n",
              "  </thead>\n",
              "  <tbody>\n",
              "    <tr>\n",
              "      <th>0</th>\n",
              "      <td>br-icloud.com.br</td>\n",
              "      <td>phishing</td>\n",
              "    </tr>\n",
              "    <tr>\n",
              "      <th>1</th>\n",
              "      <td>mp3raid.com/music/krizz_kaliko.html</td>\n",
              "      <td>benign</td>\n",
              "    </tr>\n",
              "    <tr>\n",
              "      <th>2</th>\n",
              "      <td>bopsecrets.org/rexroth/cr/1.htm</td>\n",
              "      <td>benign</td>\n",
              "    </tr>\n",
              "    <tr>\n",
              "      <th>3</th>\n",
              "      <td>http://www.garage-pirenne.be/index.php?option=...</td>\n",
              "      <td>defacement</td>\n",
              "    </tr>\n",
              "    <tr>\n",
              "      <th>4</th>\n",
              "      <td>http://adventure-nicaragua.net/index.php?optio...</td>\n",
              "      <td>defacement</td>\n",
              "    </tr>\n",
              "  </tbody>\n",
              "</table>\n",
              "</div>\n",
              "      <button class=\"colab-df-convert\" onclick=\"convertToInteractive('df-be7eed33-56ff-49ac-8be3-a8beb7ac8028')\"\n",
              "              title=\"Convert this dataframe to an interactive table.\"\n",
              "              style=\"display:none;\">\n",
              "\n",
              "  <svg xmlns=\"http://www.w3.org/2000/svg\" height=\"24px\"viewBox=\"0 0 24 24\"\n",
              "       width=\"24px\">\n",
              "    <path d=\"M0 0h24v24H0V0z\" fill=\"none\"/>\n",
              "    <path d=\"M18.56 5.44l.94 2.06.94-2.06 2.06-.94-2.06-.94-.94-2.06-.94 2.06-2.06.94zm-11 1L8.5 8.5l.94-2.06 2.06-.94-2.06-.94L8.5 2.5l-.94 2.06-2.06.94zm10 10l.94 2.06.94-2.06 2.06-.94-2.06-.94-.94-2.06-.94 2.06-2.06.94z\"/><path d=\"M17.41 7.96l-1.37-1.37c-.4-.4-.92-.59-1.43-.59-.52 0-1.04.2-1.43.59L10.3 9.45l-7.72 7.72c-.78.78-.78 2.05 0 2.83L4 21.41c.39.39.9.59 1.41.59.51 0 1.02-.2 1.41-.59l7.78-7.78 2.81-2.81c.8-.78.8-2.07 0-2.86zM5.41 20L4 18.59l7.72-7.72 1.47 1.35L5.41 20z\"/>\n",
              "  </svg>\n",
              "      </button>\n",
              "\n",
              "\n",
              "\n",
              "    <div id=\"df-1a6bf244-d7d9-47db-99e3-6fb647109893\">\n",
              "      <button class=\"colab-df-quickchart\" onclick=\"quickchart('df-1a6bf244-d7d9-47db-99e3-6fb647109893')\"\n",
              "              title=\"Suggest charts.\"\n",
              "              style=\"display:none;\">\n",
              "\n",
              "<svg xmlns=\"http://www.w3.org/2000/svg\" height=\"24px\"viewBox=\"0 0 24 24\"\n",
              "     width=\"24px\">\n",
              "    <g>\n",
              "        <path d=\"M19 3H5c-1.1 0-2 .9-2 2v14c0 1.1.9 2 2 2h14c1.1 0 2-.9 2-2V5c0-1.1-.9-2-2-2zM9 17H7v-7h2v7zm4 0h-2V7h2v10zm4 0h-2v-4h2v4z\"/>\n",
              "    </g>\n",
              "</svg>\n",
              "      </button>\n",
              "    </div>\n",
              "\n",
              "<style>\n",
              "  .colab-df-quickchart {\n",
              "    background-color: #E8F0FE;\n",
              "    border: none;\n",
              "    border-radius: 50%;\n",
              "    cursor: pointer;\n",
              "    display: none;\n",
              "    fill: #1967D2;\n",
              "    height: 32px;\n",
              "    padding: 0 0 0 0;\n",
              "    width: 32px;\n",
              "  }\n",
              "\n",
              "  .colab-df-quickchart:hover {\n",
              "    background-color: #E2EBFA;\n",
              "    box-shadow: 0px 1px 2px rgba(60, 64, 67, 0.3), 0px 1px 3px 1px rgba(60, 64, 67, 0.15);\n",
              "    fill: #174EA6;\n",
              "  }\n",
              "\n",
              "  [theme=dark] .colab-df-quickchart {\n",
              "    background-color: #3B4455;\n",
              "    fill: #D2E3FC;\n",
              "  }\n",
              "\n",
              "  [theme=dark] .colab-df-quickchart:hover {\n",
              "    background-color: #434B5C;\n",
              "    box-shadow: 0px 1px 3px 1px rgba(0, 0, 0, 0.15);\n",
              "    filter: drop-shadow(0px 1px 2px rgba(0, 0, 0, 0.3));\n",
              "    fill: #FFFFFF;\n",
              "  }\n",
              "</style>\n",
              "\n",
              "    <script>\n",
              "      async function quickchart(key) {\n",
              "        const containerElement = document.querySelector('#' + key);\n",
              "        const charts = await google.colab.kernel.invokeFunction(\n",
              "            'suggestCharts', [key], {});\n",
              "      }\n",
              "    </script>\n",
              "\n",
              "      <script>\n",
              "\n",
              "function displayQuickchartButton(domScope) {\n",
              "  let quickchartButtonEl =\n",
              "    domScope.querySelector('#df-1a6bf244-d7d9-47db-99e3-6fb647109893 button.colab-df-quickchart');\n",
              "  quickchartButtonEl.style.display =\n",
              "    google.colab.kernel.accessAllowed ? 'block' : 'none';\n",
              "}\n",
              "\n",
              "        displayQuickchartButton(document);\n",
              "      </script>\n",
              "      <style>\n",
              "    .colab-df-container {\n",
              "      display:flex;\n",
              "      flex-wrap:wrap;\n",
              "      gap: 12px;\n",
              "    }\n",
              "\n",
              "    .colab-df-convert {\n",
              "      background-color: #E8F0FE;\n",
              "      border: none;\n",
              "      border-radius: 50%;\n",
              "      cursor: pointer;\n",
              "      display: none;\n",
              "      fill: #1967D2;\n",
              "      height: 32px;\n",
              "      padding: 0 0 0 0;\n",
              "      width: 32px;\n",
              "    }\n",
              "\n",
              "    .colab-df-convert:hover {\n",
              "      background-color: #E2EBFA;\n",
              "      box-shadow: 0px 1px 2px rgba(60, 64, 67, 0.3), 0px 1px 3px 1px rgba(60, 64, 67, 0.15);\n",
              "      fill: #174EA6;\n",
              "    }\n",
              "\n",
              "    [theme=dark] .colab-df-convert {\n",
              "      background-color: #3B4455;\n",
              "      fill: #D2E3FC;\n",
              "    }\n",
              "\n",
              "    [theme=dark] .colab-df-convert:hover {\n",
              "      background-color: #434B5C;\n",
              "      box-shadow: 0px 1px 3px 1px rgba(0, 0, 0, 0.15);\n",
              "      filter: drop-shadow(0px 1px 2px rgba(0, 0, 0, 0.3));\n",
              "      fill: #FFFFFF;\n",
              "    }\n",
              "  </style>\n",
              "\n",
              "      <script>\n",
              "        const buttonEl =\n",
              "          document.querySelector('#df-be7eed33-56ff-49ac-8be3-a8beb7ac8028 button.colab-df-convert');\n",
              "        buttonEl.style.display =\n",
              "          google.colab.kernel.accessAllowed ? 'block' : 'none';\n",
              "\n",
              "        async function convertToInteractive(key) {\n",
              "          const element = document.querySelector('#df-be7eed33-56ff-49ac-8be3-a8beb7ac8028');\n",
              "          const dataTable =\n",
              "            await google.colab.kernel.invokeFunction('convertToInteractive',\n",
              "                                                     [key], {});\n",
              "          if (!dataTable) return;\n",
              "\n",
              "          const docLinkHtml = 'Like what you see? Visit the ' +\n",
              "            '<a target=\"_blank\" href=https://colab.research.google.com/notebooks/data_table.ipynb>data table notebook</a>'\n",
              "            + ' to learn more about interactive tables.';\n",
              "          element.innerHTML = '';\n",
              "          dataTable['output_type'] = 'display_data';\n",
              "          await google.colab.output.renderOutput(dataTable, element);\n",
              "          const docLink = document.createElement('div');\n",
              "          docLink.innerHTML = docLinkHtml;\n",
              "          element.appendChild(docLink);\n",
              "        }\n",
              "      </script>\n",
              "    </div>\n",
              "  </div>\n"
            ],
            "text/plain": [
              "                                                 url        type\n",
              "0                                   br-icloud.com.br    phishing\n",
              "1                mp3raid.com/music/krizz_kaliko.html      benign\n",
              "2                    bopsecrets.org/rexroth/cr/1.htm      benign\n",
              "3  http://www.garage-pirenne.be/index.php?option=...  defacement\n",
              "4  http://adventure-nicaragua.net/index.php?optio...  defacement"
            ]
          },
          "execution_count": 25,
          "metadata": {},
          "output_type": "execute_result"
        }
      ],
      "source": [
        "import pandas as pd  # pandas kütüphanesini \"pd\" takma adıyla içe aktarıyoruz.\n",
        "\n",
        "# CSV dosyasını yüklüyoruz.\n",
        "veri = pd.read_csv(\"malicious_phish.csv\")\n",
        "\n",
        "# Verisetinin ilk 10 satırını görüntülüyoruz.\n",
        "veri.head()"
      ]
    },
    {
      "cell_type": "code",
      "execution_count": 26,
      "metadata": {
        "colab": {
          "base_uri": "https://localhost:8080/"
        },
        "id": "KtChk8HpQKx3",
        "outputId": "8fafc286-4df1-416b-fd31-5fd049515b3e"
      },
      "outputs": [
        {
          "name": "stdout",
          "output_type": "stream",
          "text": [
            "<class 'pandas.core.frame.DataFrame'>\n",
            "RangeIndex: 651191 entries, 0 to 651190\n",
            "Data columns (total 2 columns):\n",
            " #   Column  Non-Null Count   Dtype \n",
            "---  ------  --------------   ----- \n",
            " 0   url     651191 non-null  object\n",
            " 1   type    651191 non-null  object\n",
            "dtypes: object(2)\n",
            "memory usage: 9.9+ MB\n"
          ]
        }
      ],
      "source": [
        "# Verisetinin özet bilgilerini alıyoruz. Sütun adları, veri türleri, dolu ve eksik değerlerin sayısını inceliyoruz.\n",
        "veri.info()"
      ]
    },
    {
      "cell_type": "code",
      "execution_count": 27,
      "metadata": {
        "colab": {
          "base_uri": "https://localhost:8080/"
        },
        "id": "NZwcjwf6Qqlf",
        "outputId": "02180ec9-ebc9-4305-ae76-1c6def4b7c19"
      },
      "outputs": [
        {
          "data": {
            "text/plain": [
              "benign        428103\n",
              "defacement     96457\n",
              "phishing       94111\n",
              "malware        32520\n",
              "Name: type, dtype: int64"
            ]
          },
          "execution_count": 27,
          "metadata": {},
          "output_type": "execute_result"
        }
      ],
      "source": [
        "veri = pd.read_csv(\"malicious_phish.csv\")\n",
        "# 'type' sütunundaki kategorilerin frekanslarını hesaplıyoruz.\n",
        "veri['type'].value_counts()"
      ]
    },
    {
      "cell_type": "code",
      "execution_count": 28,
      "metadata": {
        "colab": {
          "base_uri": "https://localhost:8080/"
        },
        "id": "ij24hJGQQ5_b",
        "outputId": "300da287-916a-4908-c56c-fc0bc48cbdd7"
      },
      "outputs": [
        {
          "data": {
            "text/plain": [
              "http://style.org.hc360.com/css/detail/mysite/siteconfig/pro_control.css                         180\n",
              "http://www.pubyun.com/wiki/lib/exe/css.php?t=dokuwiki&tseed=f1f16e8c6142fab8553f2b9cfe045961    146\n",
              "http://9779.info/%E6%A0%91%E5%8F%B6%E8%B4%B4%E7%94%BB%E4%BD%9C%E5%93%81/                         91\n",
              "http://9779.info/%E6%A0%91%E5%8F%B6%E7%B2%98%E8%B4%B4%E7%94%BB/                                  88\n",
              "http://www.js182.com/app/member/SportOption.php?uid=guest&langx=gb                               79\n",
              "                                                                                               ... \n",
              "en.wikipedia.org/wiki/Montrealer                                                                  1\n",
              "redbulgaria.com/                                                                                  1\n",
              "news.ontario.ca/opo/en/2011/06/highway-417-expansion-moving-forward.html                          1\n",
              "metal-archives.com/bands/Goddess_of_Desire/492                                                    1\n",
              "www.angelfire.com/goth/devilmaycrytonite/                                                         1\n",
              "Name: url, Length: 641119, dtype: int64"
            ]
          },
          "execution_count": 28,
          "metadata": {},
          "output_type": "execute_result"
        }
      ],
      "source": [
        "# CSV dosyasındaki verileri yüklüyoruz.\n",
        "veri = pd.read_csv(\"malicious_phish.csv\")\n",
        "\n",
        "# 'url' sütunundaki değerlerin frekanslarını hesaplayarak en sık kullanılan ve nadir bulunan URL'leri belirliyoruz.\n",
        "veri['url'].value_counts()\n",
        "\n",
        "# Frekans sonuçlarına göre hangi URL'lerin daha sık tekrarlandığını analiz ediyoruz."
      ]
    },
    {
      "cell_type": "code",
      "execution_count": 30,
      "metadata": {
        "colab": {
          "base_uri": "https://localhost:8080/"
        },
        "id": "KSJJKChFRQcW",
        "outputId": "bbb92310-c699-43c9-8400-8c6ec7ee5db3"
      },
      "outputs": [
        {
          "data": {
            "text/plain": [
              "url     0\n",
              "type    0\n",
              "dtype: int64"
            ]
          },
          "execution_count": 30,
          "metadata": {},
          "output_type": "execute_result"
        }
      ],
      "source": [
        "# CSV dosyasını yüklüyoruz.\n",
        "veri = pd.read_csv(\"malicious_phish.csv\")\n",
        "\n",
        "# Aynı URL'ye sahip tekrarlayan satırları kaldırıyoruz ve ilk görünen satırı tutuyoruz.\n",
        "# Bu işlem, verisetinin daha temiz ve düzenli hale gelmesini sağlar.\n",
        "veri = veri.drop_duplicates(subset='url', keep='first')\n",
        "\n",
        "# Her sütundaki eksik değerlerin sayısını kontrol ediyoruz.\n",
        "# Eksik değerleri tespit etmek ve gerekirse doldurma işlemleri yapmak için inceliyoruz.\n",
        "veri.isnull().sum()\n",
        "\n",
        "# Eksik değerlerin toplam sayısını görüntülüyoruz."
      ]
    },
    {
      "cell_type": "code",
      "execution_count": 31,
      "metadata": {
        "id": "ZyOkwgRYFkuN"
      },
      "outputs": [],
      "source": [
        "# sklearn kütüphanesinden train_test_split ve TfidfVectorizer araçlarını kullanarak veriyi hazırlıyoruz.\n",
        "from sklearn.model_selection import train_test_split\n",
        "from sklearn.feature_extraction.text import TfidfVectorizer\n",
        "\n",
        "# URL'leri bağımsız değişken (X), tür etiketlerini bağımlı değişken (y) olarak atıyoruz.\n",
        "X = veri['url']\n",
        "y = veri['type']\n",
        "\n",
        "# Veriyi eğitim ve test kümelerine ayırıyoruz (%20'si test kümesi olarak ayrılıyor).\n",
        "# random_state parametresi her çalıştırmada aynı sonuçları elde etmemizi sağlar.\n",
        "X_train, X_test, y_train, y_test = train_test_split(X, y, test_size=0.2, random_state=42)\n",
        "\n",
        "# TF-IDF (Term Frequency-Inverse Document Frequency) vektörleştirici kullanarak metin verilerini sayısal forma dönüştürüyoruz.\n",
        "tfidf_vectorizer = TfidfVectorizer()\n",
        "\n",
        "# Eğitim verilerini TF-IDF ile vektörize ediyoruz. Bu işlem, kelime sıklıklarına ve önemine göre özellikler oluşturur.\n",
        "X_train_tfidf = tfidf_vectorizer.fit_transform(X_train)\n",
        "\n",
        "# Test verilerini TF-IDF ile aynı ölçekte vektörize ediyoruz.\n",
        "X_test_tfidf = tfidf_vectorizer.transform(X_test)"
      ]
    },
    {
      "cell_type": "code",
      "execution_count": 34,
      "metadata": {
        "colab": {
          "base_uri": "https://localhost:8080/"
        },
        "id": "349tMGTEH9Wk",
        "outputId": "d3ae1e00-a9a7-4663-cc48-11ce14f76524"
      },
      "outputs": [
        {
          "name": "stdout",
          "output_type": "stream",
          "text": [
            "Model Başarı Oranı: 0.946429685550287\n"
          ]
        }
      ],
      "source": [
        "# sklearn kütüphanesinden LogisticRegression ve accuracy_score araçlarını kullanarak model oluşturuyor ve değerlendiriyoruz.\n",
        "from sklearn.linear_model import LogisticRegression\n",
        "from sklearn.metrics import accuracy_score\n",
        "\n",
        "# Logistic Regression modelini oluşturuyoruz (max_iter ile maksimum iterasyon sayısını belirtiyoruz).\n",
        "model = LogisticRegression(max_iter=1000)\n",
        "\n",
        "# Modeli eğitim verileri (TF-IDF vektörleri ve etiketler) ile eğitiyoruz.\n",
        "model.fit(X_train_tfidf, y_train)\n",
        "\n",
        "# Test verilerini kullanarak tahminler yapıyoruz.\n",
        "y_pred = model.predict(X_test_tfidf)\n",
        "\n",
        "# Tahminleri gerçek etiketlerle karşılaştırarak model doğruluğunu hesaplıyoruz.\n",
        "accuracy = accuracy_score(y_test, y_pred)\n",
        "\n",
        "# Modelin doğruluk oranını ekrana yazdırıyoruz.\n",
        "print(\"Model Başarı Oranı:\", accuracy)"
      ]
    }
  ],
  "metadata": {
    "colab": {
      "provenance": []
    },
    "kernelspec": {
      "display_name": "Python 3",
      "name": "python3"
    }
  },
  "nbformat": 4,
  "nbformat_minor": 0
}
